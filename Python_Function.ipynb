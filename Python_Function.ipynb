{
  "nbformat": 4,
  "nbformat_minor": 0,
  "metadata": {
    "colab": {
      "name": "Python Function.ipynb",
      "provenance": [],
      "collapsed_sections": []
    },
    "kernelspec": {
      "name": "python3",
      "display_name": "Python 3"
    }
  },
  "cells": [
    {
      "cell_type": "code",
      "metadata": {
        "id": "hc5F_6psM3f2",
        "colab_type": "code",
        "outputId": "dcc79f8c-8665-4932-8960-23887fec248b",
        "colab": {
          "base_uri": "https://localhost:8080/",
          "height": 34
        }
      },
      "source": [
        "#Function example-1\n",
        "def square(x):\n",
        "  return x * x\n",
        "square(5)  "
      ],
      "execution_count": 0,
      "outputs": [
        {
          "output_type": "execute_result",
          "data": {
            "text/plain": [
              "25"
            ]
          },
          "metadata": {
            "tags": []
          },
          "execution_count": 1
        }
      ]
    },
    {
      "cell_type": "code",
      "metadata": {
        "id": "IHfMqJGnQ4zd",
        "colab_type": "code",
        "outputId": "7b106f7a-3fec-4f74-9f65-2775847915e3",
        "colab": {
          "base_uri": "https://localhost:8080/",
          "height": 34
        }
      },
      "source": [
        "#Funxction example-2\n",
        "def Thrust():\n",
        "  print(\"This is a robotics school\")\n",
        "\n",
        "Thrust()  "
      ],
      "execution_count": 0,
      "outputs": [
        {
          "output_type": "stream",
          "text": [
            "This is a robotics school\n"
          ],
          "name": "stdout"
        }
      ]
    },
    {
      "cell_type": "code",
      "metadata": {
        "id": "wooI9XGlRXI-",
        "colab_type": "code",
        "outputId": "582efbea-ae35-4f62-f657-fc8b4d13b844",
        "colab": {
          "base_uri": "https://localhost:8080/",
          "height": 34
        }
      },
      "source": [
        "#Function example-3\n",
        "\n",
        "def odd_or_even(n):\n",
        "  if n%2==0:\n",
        "    print(\"Even\")\n",
        "  else:\n",
        "    print(\"Odd\")\n",
        "odd_or_even(10)      "
      ],
      "execution_count": 0,
      "outputs": [
        {
          "output_type": "stream",
          "text": [
            "Even\n"
          ],
          "name": "stdout"
        }
      ]
    },
    {
      "cell_type": "code",
      "metadata": {
        "id": "Uyq6TkS4V1tT",
        "colab_type": "code",
        "outputId": "f362ae9c-8be6-46b0-d476-98591ac6ba65",
        "colab": {
          "base_uri": "https://localhost:8080/",
          "height": 34
        }
      },
      "source": [
        "#Function example-4\n",
        "def nth_root(radicand,n):\n",
        "  return radicand**(1/n)\n",
        "nth_root(16,2)  "
      ],
      "execution_count": 0,
      "outputs": [
        {
          "output_type": "execute_result",
          "data": {
            "text/plain": [
              "4.0"
            ]
          },
          "metadata": {
            "tags": []
          },
          "execution_count": 5
        }
      ]
    },
    {
      "cell_type": "code",
      "metadata": {
        "id": "2venP5SGf0NC",
        "colab_type": "code",
        "outputId": "ba419b63-794c-4b2d-9125-cce83a95444c",
        "colab": {
          "base_uri": "https://localhost:8080/",
          "height": 34
        }
      },
      "source": [
        "#Function example-5(Replace)\n",
        "m=[24,25,26]\n",
        "def valuereplace(k):\n",
        "  k.append(39)\n",
        "  print(\"K=\",k)\n",
        "valuereplace(m)  "
      ],
      "execution_count": 0,
      "outputs": [
        {
          "output_type": "stream",
          "text": [
            "K= [24, 25, 26, 39]\n"
          ],
          "name": "stdout"
        }
      ]
    },
    {
      "cell_type": "code",
      "metadata": {
        "id": "mRErJuy0h328",
        "colab_type": "code",
        "outputId": "6416b2d7-39da-4eb9-c36c-0a562ff01a15",
        "colab": {
          "base_uri": "https://localhost:8080/",
          "height": 34
        }
      },
      "source": [
        "#Function replace argument\n",
        "m=[21,22,23]\n",
        "def replace(k):\n",
        "  k=[31,32,33]\n",
        "  print(\"k=\",k)\n",
        "replace(m)  "
      ],
      "execution_count": 0,
      "outputs": [
        {
          "output_type": "stream",
          "text": [
            "k= [31, 32, 33]\n"
          ],
          "name": "stdout"
        }
      ]
    },
    {
      "cell_type": "code",
      "metadata": {
        "id": "TzPzCu3fjVyj",
        "colab_type": "code",
        "outputId": "380fcf59-1f8b-43e8-d212-2f6d7e6bf727",
        "colab": {
          "base_uri": "https://localhost:8080/",
          "height": 68
        }
      },
      "source": [
        "#Default arguments value\n",
        "def banner(message,border='*'):\n",
        "  line=border * len(message)\n",
        "  print(line)\n",
        "  print(message)\n",
        "  print(line)\n",
        "banner(\"Mohoshi haque Tonmoy\")  "
      ],
      "execution_count": 0,
      "outputs": [
        {
          "output_type": "stream",
          "text": [
            "********************\n",
            "Mohoshi haque Tonmoy\n",
            "********************\n"
          ],
          "name": "stdout"
        }
      ]
    },
    {
      "cell_type": "code",
      "metadata": {
        "id": "lrScP6ZSoH49",
        "colab_type": "code",
        "outputId": "657b8b45-6edb-4c34-f78b-2c72991e4780",
        "colab": {
          "base_uri": "https://localhost:8080/",
          "height": 34
        }
      },
      "source": [
        "#Mutable\n",
        "def spam(x=[]):\n",
        "  x.append(\"Spam\")\n",
        "  return x\n",
        "breakfast=['eggs','Ruti'] \n",
        "spam(breakfast)\n",
        "lunch=['Mangsho']\n",
        "spam(lunch)\n",
        "spam()\n",
        "spam()"
      ],
      "execution_count": 0,
      "outputs": [
        {
          "output_type": "execute_result",
          "data": {
            "text/plain": [
              "['Spam', 'Spam']"
            ]
          },
          "metadata": {
            "tags": []
          },
          "execution_count": 30
        }
      ]
    },
    {
      "cell_type": "code",
      "metadata": {
        "id": "8F3r2aqBw3Bi",
        "colab_type": "code",
        "outputId": "6f233231-45a9-4f1a-c44d-e93663ad70fe",
        "colab": {
          "base_uri": "https://localhost:8080/",
          "height": 34
        }
      },
      "source": [
        "#Immutable\n",
        "def spam(x=None):\n",
        "  if x is None:\n",
        "    x=[]\n",
        "  x.append(\"Mohoshi\")\n",
        "  return x\n",
        "spam()  \n",
        "spam()  "
      ],
      "execution_count": 0,
      "outputs": [
        {
          "output_type": "execute_result",
          "data": {
            "text/plain": [
              "['Mohoshi']"
            ]
          },
          "metadata": {
            "tags": []
          },
          "execution_count": 33
        }
      ]
    },
    {
      "cell_type": "code",
      "metadata": {
        "id": "YTIuSQRQF-GO",
        "colab_type": "code",
        "outputId": "e1155a91-5b67-4b08-f6e3-c138d051d1ef",
        "colab": {
          "base_uri": "https://localhost:8080/",
          "height": 34
        }
      },
      "source": [
        "#Python data type system\n",
        "def add(a,b):\n",
        "  return a+b\n",
        "add(3.34213,4.2323)\n",
        "add(3,4)\n",
        "add('Mohoshi ','Aust')\n",
        "#add('Mohoshi ', 36)  "
      ],
      "execution_count": 0,
      "outputs": [
        {
          "output_type": "execute_result",
          "data": {
            "text/plain": [
              "'Mohoshi Aust'"
            ]
          },
          "metadata": {
            "tags": []
          },
          "execution_count": 8
        }
      ]
    }
  ]
}